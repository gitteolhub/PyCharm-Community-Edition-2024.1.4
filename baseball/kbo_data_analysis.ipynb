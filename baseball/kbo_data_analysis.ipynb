{
 "cells": [
  {
   "cell_type": "code",
   "execution_count": 1,
   "id": "ba47c829-f4d8-4717-9190-4282b8bbd547",
   "metadata": {},
   "outputs": [],
   "source": [
    "import csv"
   ]
  },
  {
   "cell_type": "code",
   "execution_count": 2,
   "id": "fddf4a69-c731-45b8-a36f-22f66cda88bc",
   "metadata": {},
   "outputs": [],
   "source": [
    "# 야구단 선수들 현황 읽어들이기\n",
    "# player_state 라는 리스트(list) 변수를 작성하여 주어진 csv 파일을 읽어서\n",
    "# 줄 단위로 리스트에 추가하여 전체 현황을 인쇄합니다.\n",
    "# 단, 인코딩 방식은 UTF-8입니다.\n",
    "\n",
    "# https://docs.python.org/ko/3.11/library/csv.html"
   ]
  },
  {
   "cell_type": "code",
   "execution_count": 3,
   "id": "388f6143-8998-4204-afe9-762bca776d1f",
   "metadata": {},
   "outputs": [
    {
     "name": "stdout",
     "output_type": "stream",
     "text": [
      "[['선수', '1', '2', '3', '4', '5', '6', '7', '8', '9', '타수', '안타', '타점', '득점', '홈런', '볼넷', '삼진', '타율'], ['홍창기', '삼진', '우비', '', '', '우안', '', '중안/2직', '', '4구', '5', '2', '1', '0', '0', '1', '1', '0.294'], ['박해민', '우안', '', '1땅', '', '좌비', '', '좌2', '1땅', '유병', '6', '2', '0', '2', '0', '0', '0', '0.333'], ['김현수', '우홈', '', '유비', '', '우비', '', '우안', '', '', '4', '2', '3', '1', '1', '0', '0', '0.235'], ['최승민', '', '', '', '', '', '', '', '', '', '0', '0', '0', '1', '0', '0', '0', '0'], ['김범석', '', '', '', '', '', '', '', '중안', '', '1', '1', '0', '0', '0', '0', '0', '1'], ['손호영', '', '', '', '', '', '', '', '', '4구', '0', '0', '0', '1', '0', '1', '0', '0'], ['오스틴', '우비', '', '유땅', '', '', '중비', '중안', '', '', '4', '1', '0', '1', '0', '0', '0', '0.375'], ['김민성', '', '', '', '', '', '', '', '4구', '3땅', '1', '0', '0', '1', '0', '1', '0', '0'], ['오지환', '4구', '', '', '2땅', '', '4구', '우홈', '우안', '', '3', '2', '4', '3', '1', '2', '0', '0.4'], ['문보경', '', '우안', '', '3땅', '', '좌홈', '우2', '좌희비', '', '4', '3', '3', '2', '1', '0', '0', '0.462'], ['정주현', '', '', '', '', '', '', '', '', '', '0', '0', '0', '0', '0', '0', '0', '0'], ['박동원', '', '좌안', '', '삼진', '', '4구', '3안', '', '', '3', '2', '0', '1', '0', '1', '1', '0.385'], ['허도환', '', '', '', '', '', '', '', '좌2', '', '1', '1', '1', '0', '0', '0', '0', '1'], ['문성주', '', '투비', '', '', '4구', '좌비', '좌중3', '', '', '3', '1', '2', '2', '0', '1', '0', '0.214'], ['안익훈', '', '', '', '', '', '', '', '4구', '', '0', '0', '0', '0', '0', '1', '0', '0'], ['신민재', '', '2땅', '', '', '투희번', '3땅', '유땅', '2땅', '', '4', '0', '1', '0', '0', '0', '0', '0.188'], ['', '', '', '', '', '', '', '', '', '', '39', '17', '15', '15', '3', '8', '2', '']]\n",
      "-------------------------------------------------------------\n"
     ]
    }
   ],
   "source": [
    "player_state = []\n",
    "\n",
    "\n",
    "# \\ufeff 삭제\n",
    "# 참고 : https://ddan-dara.tistory.com/44\n",
    "# 패치 : 반드시 encoding=\"UTF-8-SIG\"로 처리할 것 !\n",
    "\n",
    "with open('KBO_2023_한국시리즈.csv', newline='', encoding=\"UTF-8-SIG\") as csvfile:\n",
    "    file_row = csv.reader(csvfile, delimiter=\",\")\n",
    "    for row in file_row:\n",
    "        player_state.append(row)\n",
    "\n",
    "print(player_state)\n",
    "\n",
    "print('-------------------------------------------------------------')"
   ]
  },
  {
   "cell_type": "code",
   "execution_count": 4,
   "id": "5f21762f-d10b-4d35-bbe4-f9886bad66b4",
   "metadata": {},
   "outputs": [
    {
     "name": "stdout",
     "output_type": "stream",
     "text": [
      "선수 :  0\n",
      "안타 :  11\n",
      "타점 :  12\n",
      "득점 :  13\n",
      "홈런 :  14\n",
      "볼넷 :  15\n",
      "삼진 :  16\n",
      "타율 :  17\n"
     ]
    }
   ],
   "source": [
    "# 선수, 안타수, 타점, 득점, 홈런, 볼넷, 삼진, 타율 등의 열(column) 인덱스(index)를 구하여 인쇄합니다.\n",
    "print('선수 : ', player_state[0].index('선수'))\n",
    "print('안타 : ', player_state[0].index('안타'))\n",
    "print('타점 : ', player_state[0].index('타점'))\n",
    "print('득점 : ', player_state[0].index('득점'))\n",
    "print('홈런 : ', player_state[0].index('홈런'))\n",
    "print('볼넷 : ', player_state[0].index('볼넷'))\n",
    "print('삼진 : ', player_state[0].index('삼진'))\n",
    "print('타율 : ', player_state[0].index('타율'))"
   ]
  },
  {
   "cell_type": "markdown",
   "id": "25d4d276-2f34-4bed-b61f-a4d46341e9af",
   "metadata": {},
   "source": [
    "---\n",
    "\n",
    "#### 전체 선수명"
   ]
  },
  {
   "cell_type": "code",
   "execution_count": 5,
   "id": "f8eafb93-8acd-4f4f-9cdd-42588e34589f",
   "metadata": {},
   "outputs": [
    {
     "name": "stdout",
     "output_type": "stream",
     "text": [
      "['홍창기', '박해민', '김현수', '최승민', '김범석', '손호영', '오스틴', '김민성', '오지환', '문보경', '정주현', '박동원', '허도환', '문성주', '안익훈', '신민재', '']\n"
     ]
    }
   ],
   "source": [
    "player_name = []\n",
    "#for i in range(1, len(player_state)):\n",
    "#    player_name.append(player_state[i][player_state[0].index('선수')])\n",
    "\n",
    "player_name = [player_state[i][player_state[0].index('선수')] for i in range(1, len(player_state))]\n",
    "print(player_name)"
   ]
  },
  {
   "cell_type": "markdown",
   "id": "8695e7b7-ffee-4618-99b5-02f6a61e5409",
   "metadata": {},
   "source": [
    "---\n",
    "#### 문1) 선수별 안타수를 추출하여 데이터를 player_hits 리스트에 적재하여 전체 현황을 출력합니다."
   ]
  },
  {
   "cell_type": "code",
   "execution_count": 6,
   "id": "4b87080f-8a0e-4b0b-9f5e-b9744e28765c",
   "metadata": {},
   "outputs": [
    {
     "name": "stdout",
     "output_type": "stream",
     "text": [
      "['2', '2', '2', '0', '1', '0', '1', '0', '2', '3', '0', '2', '1', '1', '0', '0', '17']\n"
     ]
    }
   ],
   "source": [
    "player_hits = []\n",
    "player_hits = [player_state[i][player_state[0].index('안타')] for i in range(1, len(player_state))]\n",
    "print(player_hits)"
   ]
  },
  {
   "cell_type": "markdown",
   "id": "2263c422-544f-4fcc-a86f-581c39cb4ec8",
   "metadata": {},
   "source": [
    "---\n",
    "#### 문2) 선수별 타점(rbi) 현황을 추출하여 데이터를 player_rbi 리스트에 적재하여 전체 현황을 출력합니다.\n",
    "#### 선수 타점(RBI:runs batted in) 집계"
   ]
  },
  {
   "cell_type": "code",
   "execution_count": 7,
   "id": "2dbfcf18-fbbe-4c52-8fa5-5de1c744a47f",
   "metadata": {},
   "outputs": [
    {
     "name": "stdout",
     "output_type": "stream",
     "text": [
      "['1', '0', '3', '0', '0', '0', '0', '0', '4', '3', '0', '0', '1', '2', '0', '1', '15']\n"
     ]
    }
   ],
   "source": [
    "player_rbi = []\n",
    "player_rbi = [player_state[i][player_state[0].index('타점')] for i in range(1, len(player_state))]\n",
    "print(player_rbi)"
   ]
  },
  {
   "cell_type": "markdown",
   "id": "18830303-1e45-4658-8e8f-2d17eec36d9e",
   "metadata": {},
   "source": [
    "---\n",
    "#### 문3) 선수별 득점 현황을 추출하여 데이터를 player_rs 리스트에 적재합니다.\n",
    "#### 선수 득점(R:runs scored) 집계"
   ]
  },
  {
   "cell_type": "code",
   "execution_count": 8,
   "id": "6d197e0c-9a2e-460d-acc3-e673e9d1dbe8",
   "metadata": {},
   "outputs": [
    {
     "name": "stdout",
     "output_type": "stream",
     "text": [
      "['0', '2', '1', '1', '0', '1', '1', '1', '3', '2', '0', '1', '0', '2', '0', '0', '15']\n"
     ]
    }
   ],
   "source": [
    "# player_rs = []\n",
    "# for i in range(1, len(player_state)):\n",
    "#    player_rs.append(player_state[i][14])\n",
    "\n",
    "player_rs = [player_state[i][player_state[0].index('득점')] for i in range(1, len(player_state))]\n",
    "print(player_rs)"
   ]
  },
  {
   "cell_type": "markdown",
   "id": "c9ae679f-668c-4965-9778-4f2147c78940",
   "metadata": {},
   "source": [
    "---\n",
    "#### 문4) 선수별 타율 현황을 추출하여 데이터를 player_batting_avg 리스트에 적재합니다.\n",
    "#### 선수 타율 집계 => 리스트"
   ]
  },
  {
   "cell_type": "code",
   "execution_count": 9,
   "id": "a1de6d53-13b7-4d95-b0da-a4e8017bd3e7",
   "metadata": {},
   "outputs": [
    {
     "name": "stdout",
     "output_type": "stream",
     "text": [
      "['0.294', '0.333', '0.235', '0', '1', '0', '0.375', '0', '0.4', '0.462', '0', '0.385', '1', '0.214', '0', '0.188', '']\n"
     ]
    }
   ],
   "source": [
    "# player_batting_avg = []\n",
    "# for i in range(1, len(player_state)):\n",
    "#    player_batting_avg.append(float(player_state[i][15]))\n",
    "\n",
    "player_batting_avg = [player_state[i][player_state[0].index('타율')] for i in range(1, len(player_state))]\n",
    "print(player_batting_avg)"
   ]
  },
  {
   "cell_type": "markdown",
   "id": "c05d6367-48ef-454c-9a52-185c5115f460",
   "metadata": {},
   "source": [
    "---\n",
    "#### 문5) 선수 이름을 키(key)로 하고, 위의 나머지 현황을 tuple로 묶은(zip) 자료구조를 값(value)으로 하는\n",
    "#### 딕셔너리(dictionary) 자료형의 변수 player_today_state를 생성합니다."
   ]
  },
  {
   "cell_type": "markdown",
   "id": "390f3f15-40b0-44de-975f-b7ae92252dcf",
   "metadata": {},
   "source": [
    "**절차)**\n",
    "\n",
    "\n",
    "##### 1) 전체적인 구조는 아래와 같은 형식으로 출력되도록 구성해야 됩니다.\n",
    "##### ex) {'홍창기': ('2', '1', '0', '0.294'), '오지환': ('2', '4', '3', '0.4'), ... (후략)...\n",
    "#####\n",
    "##### 2) 먼저 딕셔너리(dict)의 값에 해당되는 부분 (가령, ('2', '1', '3', 0.353) )을 구합니다.\n",
    "#####    앞선 문제에서 구한 각종 현황(타점, 타율 현황 리스트 등)을 묶어서(zip) 튜플로 변환합니다.\n",
    "#####    단, 값의 순서는 안타, 타점, 득점, 타율 순으로 배치합니다.\n",
    "#####\n",
    "##### 3) 2)번 단계에서 구성한 값을 선수명 리스트를 키(key)로 하여 zip 함수를 이용하여 묶고 이를 dict 함수를\n",
    "#####   활용하여 딕셔너리 구조로 변환(치환)합니다.\n",
    "\n",
    "##### 참고) tuple 함수 : https://wikidocs.net/15, https://docs.python.org/ko/3/library/stdtypes.html?highlight=tuple#tuple\n",
    "##### 참고) zip 함수 : https://wikidocs.net/32#zip, https://docs.python.org/ko/3/library/functions.html#zip\n",
    "##### 참고) dict 함수 : https://wikidocs.net/16, https://docs.python.org/ko/3/library/stdtypes.html#dict"
   ]
  },
  {
   "cell_type": "code",
   "execution_count": 10,
   "id": "93acc30f-b527-4259-9455-c9020660c84f",
   "metadata": {},
   "outputs": [
    {
     "name": "stdout",
     "output_type": "stream",
     "text": [
      "{'홍창기': ('2', '1', '0', '0.294'), '박해민': ('2', '0', '2', '0.333'), '김현수': ('2', '3', '1', '0.235'), '최승민': ('0', '0', '1', '0'), '김범석': ('1', '0', '0', '1'), '손호영': ('0', '0', '1', '0'), '오스틴': ('1', '0', '1', '0.375'), '김민성': ('0', '0', '1', '0'), '오지환': ('2', '4', '3', '0.4'), '문보경': ('3', '3', '2', '0.462'), '정주현': ('0', '0', '0', '0'), '박동원': ('2', '0', '1', '0.385'), '허도환': ('1', '1', '0', '1'), '문성주': ('1', '2', '2', '0.214'), '안익훈': ('0', '0', '0', '0'), '신민재': ('0', '1', '0', '0.188'), '': ('17', '15', '15', '')}\n"
     ]
    }
   ],
   "source": [
    "player_today_state = dict(zip(player_name, tuple(zip(player_hits, player_rbi, player_rs, player_batting_avg))))\n",
    "print(player_today_state)"
   ]
  },
  {
   "cell_type": "markdown",
   "id": "1e3d4e4d-4e9f-451e-a6e1-f96f1baa69be",
   "metadata": {},
   "source": [
    "---\n",
    "#### 문6) 타율이 가장 높은 선수의 이름과 타율을 인쇄하십시오.\n",
    "\n",
    "**절차)**\n",
    "\n",
    "##### 1) max 함수를 활용하여 최고 타율을 구합니다.\n",
    "##### 2) 조건문과 반복문 혹은 그 둘의 컴프리헨션을 활용하여 타자의 이름을 구합니다.\n",
    "##### 3) 반복문을 돌리면서 그 내부에서 조건문을 두어 max 함수로 구한 값과 같은 타자의 이름을 구한 후 분기(break)할 수 있습니다.\n"
   ]
  },
  {
   "cell_type": "code",
   "execution_count": 11,
   "id": "0cd960f8-fb28-455d-8c42-95c63226b7d1",
   "metadata": {},
   "outputs": [
    {
     "name": "stdout",
     "output_type": "stream",
     "text": [
      "최고 타율 타자 : 김범석 1\n"
     ]
    }
   ],
   "source": [
    "# print(max(player_batting_avg))\n",
    "# best_hitter = \"\"\n",
    "#for name in player_today_state.keys():\n",
    "#    if player_today_state[name][3] == max(player_batting_avg):\n",
    "#        best_hitter = name\n",
    "#        break\n",
    "#print('최고 타율 타자 :', best_hitter, max(player_batting_avg))\n",
    "\n",
    "\n",
    "print('최고 타율 타자 :', [name for name in player_today_state.keys() if player_today_state[name][3] == max(player_batting_avg)][0]\n",
    "      , max(player_batting_avg))"
   ]
  },
  {
   "cell_type": "markdown",
   "id": "8520713d-cfba-4a87-b974-cc7d31d84253",
   "metadata": {},
   "source": [
    "---\n",
    "#### 문7) 당일 최다 안타를 친 타자와 안타수"
   ]
  },
  {
   "cell_type": "code",
   "execution_count": 12,
   "id": "5d3feff7-f5ff-404b-b03a-ee465c41e9ba",
   "metadata": {},
   "outputs": [
    {
     "name": "stdout",
     "output_type": "stream",
     "text": [
      "당일 최다 안타를 친 타자 : 문보경 3\n"
     ]
    }
   ],
   "source": [
    "print('당일 최다 안타를 친 타자 :',\n",
    "      [name for name in player_today_state.keys() if player_today_state[name][0] == max(player_hits)][0]\n",
    "      , max(player_hits))"
   ]
  }
 ],
 "metadata": {
  "kernelspec": {
   "display_name": "Python 3 (ipykernel)",
   "language": "python",
   "name": "python3"
  },
  "language_info": {
   "codemirror_mode": {
    "name": "ipython",
    "version": 3
   },
   "file_extension": ".py",
   "mimetype": "text/x-python",
   "name": "python",
   "nbconvert_exporter": "python",
   "pygments_lexer": "ipython3",
   "version": "3.11.9"
  }
 },
 "nbformat": 4,
 "nbformat_minor": 5
}
